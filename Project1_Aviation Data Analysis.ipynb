{
 "cells": [
  {
   "cell_type": "markdown",
   "metadata": {},
   "source": [
    "James Kimani Mwaura \n",
    "Data Science(Phase1 Project)\n",
    "Submitted: 24th November 2024\n",
    "\n",
    "Project Title: Aviation Data Analysis( Insights into Safety and Risk Management)\n",
    "\n",
    "Overview/Goal\n",
    "This project aims to analyze aviation accident data to uncover patterns, assess risks, and provide actionable recommendations to enhance flight safety. The focus includes understanding the impact of weather, aircraft type, and operational conditions on accident outcomes.\n",
    "\n",
    "Source of the Data\n",
    "The dataset used for this analysis is the AviationData.csv, which contains detailed records of aviation accidents, including factors such as aircraft make, flight phase, weather conditions, and injury severity. The data has been filtered to include only accidents in the United States to ensure consistency and relevance."
   ]
  },
  {
   "cell_type": "markdown",
   "metadata": {},
   "source": [
    "1. Setting Up the Environment"
   ]
  },
  {
   "cell_type": "code",
   "execution_count": 1,
   "metadata": {},
   "outputs": [],
   "source": [
    "#Import these libraries into my Jupyter notebook\n",
    "import pandas as pd\n",
    "import numpy as np\n",
    "import matplotlib.pyplot as plt\n",
    "import seaborn as sns"
   ]
  },
  {
   "cell_type": "markdown",
   "metadata": {},
   "source": [
    "2. Loading and Explore the Dataset"
   ]
  },
  {
   "cell_type": "code",
   "execution_count": 2,
   "metadata": {},
   "outputs": [],
   "source": [
    "# Loading Aviation data csv file\n",
    "df = pd.read_csv('AviationData.csv', encoding='ISO-8859-1', low_memory=False )"
   ]
  },
  {
   "cell_type": "code",
   "execution_count": 10,
   "metadata": {},
   "outputs": [
    {
     "name": "stdout",
     "output_type": "stream",
     "text": [
      "<class 'pandas.core.frame.DataFrame'>\n",
      "RangeIndex: 88889 entries, 0 to 88888\n",
      "Data columns (total 31 columns):\n",
      " #   Column                  Non-Null Count  Dtype  \n",
      "---  ------                  --------------  -----  \n",
      " 0   Event.Id                88889 non-null  object \n",
      " 1   Investigation.Type      88889 non-null  object \n",
      " 2   Accident.Number         88889 non-null  object \n",
      " 3   Event.Date              88889 non-null  object \n",
      " 4   Location                88837 non-null  object \n",
      " 5   Country                 88663 non-null  object \n",
      " 6   Latitude                34382 non-null  object \n",
      " 7   Longitude               34373 non-null  object \n",
      " 8   Airport.Code            50249 non-null  object \n",
      " 9   Airport.Name            52790 non-null  object \n",
      " 10  Injury.Severity         87889 non-null  object \n",
      " 11  Aircraft.damage         85695 non-null  object \n",
      " 12  Aircraft.Category       32287 non-null  object \n",
      " 13  Registration.Number     87572 non-null  object \n",
      " 14  Make                    88826 non-null  object \n",
      " 15  Model                   88797 non-null  object \n",
      " 16  Amateur.Built           88787 non-null  object \n",
      " 17  Number.of.Engines       82805 non-null  float64\n",
      " 18  Engine.Type             81812 non-null  object \n",
      " 19  FAR.Description         32023 non-null  object \n",
      " 20  Schedule                12582 non-null  object \n",
      " 21  Purpose.of.flight       82697 non-null  object \n",
      " 22  Air.carrier             16648 non-null  object \n",
      " 23  Total.Fatal.Injuries    77488 non-null  float64\n",
      " 24  Total.Serious.Injuries  76379 non-null  float64\n",
      " 25  Total.Minor.Injuries    76956 non-null  float64\n",
      " 26  Total.Uninjured         82977 non-null  float64\n",
      " 27  Weather.Condition       84397 non-null  object \n",
      " 28  Broad.phase.of.flight   61724 non-null  object \n",
      " 29  Report.Status           82508 non-null  object \n",
      " 30  Publication.Date        75118 non-null  object \n",
      "dtypes: float64(5), object(26)\n",
      "memory usage: 21.0+ MB\n"
     ]
    },
    {
     "data": {
      "text/html": [
       "<div>\n",
       "<style scoped>\n",
       "    .dataframe tbody tr th:only-of-type {\n",
       "        vertical-align: middle;\n",
       "    }\n",
       "\n",
       "    .dataframe tbody tr th {\n",
       "        vertical-align: top;\n",
       "    }\n",
       "\n",
       "    .dataframe thead th {\n",
       "        text-align: right;\n",
       "    }\n",
       "</style>\n",
       "<table border=\"1\" class=\"dataframe\">\n",
       "  <thead>\n",
       "    <tr style=\"text-align: right;\">\n",
       "      <th></th>\n",
       "      <th>Number.of.Engines</th>\n",
       "      <th>Total.Fatal.Injuries</th>\n",
       "      <th>Total.Serious.Injuries</th>\n",
       "      <th>Total.Minor.Injuries</th>\n",
       "      <th>Total.Uninjured</th>\n",
       "    </tr>\n",
       "  </thead>\n",
       "  <tbody>\n",
       "    <tr>\n",
       "      <th>count</th>\n",
       "      <td>82805.000000</td>\n",
       "      <td>77488.000000</td>\n",
       "      <td>76379.000000</td>\n",
       "      <td>76956.000000</td>\n",
       "      <td>82977.000000</td>\n",
       "    </tr>\n",
       "    <tr>\n",
       "      <th>mean</th>\n",
       "      <td>1.146585</td>\n",
       "      <td>0.647855</td>\n",
       "      <td>0.279881</td>\n",
       "      <td>0.357061</td>\n",
       "      <td>5.325440</td>\n",
       "    </tr>\n",
       "    <tr>\n",
       "      <th>std</th>\n",
       "      <td>0.446510</td>\n",
       "      <td>5.485960</td>\n",
       "      <td>1.544084</td>\n",
       "      <td>2.235625</td>\n",
       "      <td>27.913634</td>\n",
       "    </tr>\n",
       "    <tr>\n",
       "      <th>min</th>\n",
       "      <td>0.000000</td>\n",
       "      <td>0.000000</td>\n",
       "      <td>0.000000</td>\n",
       "      <td>0.000000</td>\n",
       "      <td>0.000000</td>\n",
       "    </tr>\n",
       "    <tr>\n",
       "      <th>25%</th>\n",
       "      <td>1.000000</td>\n",
       "      <td>0.000000</td>\n",
       "      <td>0.000000</td>\n",
       "      <td>0.000000</td>\n",
       "      <td>0.000000</td>\n",
       "    </tr>\n",
       "    <tr>\n",
       "      <th>50%</th>\n",
       "      <td>1.000000</td>\n",
       "      <td>0.000000</td>\n",
       "      <td>0.000000</td>\n",
       "      <td>0.000000</td>\n",
       "      <td>1.000000</td>\n",
       "    </tr>\n",
       "    <tr>\n",
       "      <th>75%</th>\n",
       "      <td>1.000000</td>\n",
       "      <td>0.000000</td>\n",
       "      <td>0.000000</td>\n",
       "      <td>0.000000</td>\n",
       "      <td>2.000000</td>\n",
       "    </tr>\n",
       "    <tr>\n",
       "      <th>max</th>\n",
       "      <td>8.000000</td>\n",
       "      <td>349.000000</td>\n",
       "      <td>161.000000</td>\n",
       "      <td>380.000000</td>\n",
       "      <td>699.000000</td>\n",
       "    </tr>\n",
       "  </tbody>\n",
       "</table>\n",
       "</div>"
      ],
      "text/plain": [
       "       Number.of.Engines  Total.Fatal.Injuries  Total.Serious.Injuries  \\\n",
       "count       82805.000000          77488.000000            76379.000000   \n",
       "mean            1.146585              0.647855                0.279881   \n",
       "std             0.446510              5.485960                1.544084   \n",
       "min             0.000000              0.000000                0.000000   \n",
       "25%             1.000000              0.000000                0.000000   \n",
       "50%             1.000000              0.000000                0.000000   \n",
       "75%             1.000000              0.000000                0.000000   \n",
       "max             8.000000            349.000000              161.000000   \n",
       "\n",
       "       Total.Minor.Injuries  Total.Uninjured  \n",
       "count          76956.000000     82977.000000  \n",
       "mean               0.357061         5.325440  \n",
       "std                2.235625        27.913634  \n",
       "min                0.000000         0.000000  \n",
       "25%                0.000000         0.000000  \n",
       "50%                0.000000         1.000000  \n",
       "75%                0.000000         2.000000  \n",
       "max              380.000000       699.000000  "
      ]
     },
     "execution_count": 10,
     "metadata": {},
     "output_type": "execute_result"
    }
   ],
   "source": [
    "#Examining the dataset to understand its structure\n",
    "df.head()\n",
    "df.info()\n",
    "df.describe()"
   ]
  },
  {
   "cell_type": "markdown",
   "metadata": {},
   "source": [
    "3. Data Cleaning"
   ]
  },
  {
   "cell_type": "code",
   "execution_count": 3,
   "metadata": {},
   "outputs": [
    {
     "name": "stdout",
     "output_type": "stream",
     "text": [
      "Event.Id                      0\n",
      "Investigation.Type            0\n",
      "Accident.Number               0\n",
      "Event.Date                    0\n",
      "Location                     52\n",
      "Country                     226\n",
      "Latitude                  54507\n",
      "Longitude                 54516\n",
      "Airport.Code              38640\n",
      "Airport.Name              36099\n",
      "Injury.Severity            1000\n",
      "Aircraft.damage            3194\n",
      "Aircraft.Category         56602\n",
      "Registration.Number        1317\n",
      "Make                         63\n",
      "Model                        92\n",
      "Amateur.Built               102\n",
      "Number.of.Engines          6084\n",
      "Engine.Type                7077\n",
      "FAR.Description           56866\n",
      "Schedule                  76307\n",
      "Purpose.of.flight          6192\n",
      "Air.carrier               72241\n",
      "Total.Fatal.Injuries      11401\n",
      "Total.Serious.Injuries    12510\n",
      "Total.Minor.Injuries      11933\n",
      "Total.Uninjured            5912\n",
      "Weather.Condition          4492\n",
      "Broad.phase.of.flight     27165\n",
      "Report.Status              6381\n",
      "Publication.Date          13771\n",
      "dtype: int64\n"
     ]
    }
   ],
   "source": [
    "# I. Checking missing data / Check for missing values\n",
    "print(df.isna().sum())"
   ]
  },
  {
   "cell_type": "code",
   "execution_count": 24,
   "metadata": {},
   "outputs": [],
   "source": [
    "# II. Data Cleaning"
   ]
  },
  {
   "cell_type": "code",
   "execution_count": 4,
   "metadata": {},
   "outputs": [
    {
     "name": "stdout",
     "output_type": "stream",
     "text": [
      "<class 'pandas.core.frame.DataFrame'>\n",
      "Int64Index: 79906 entries, 0 to 88888\n",
      "Data columns (total 26 columns):\n",
      " #   Column                  Non-Null Count  Dtype         \n",
      "---  ------                  --------------  -----         \n",
      " 0   Event.Id                79906 non-null  object        \n",
      " 1   Investigation.Type      79906 non-null  object        \n",
      " 2   Accident.Number         79906 non-null  object        \n",
      " 3   Event.Date              79906 non-null  datetime64[ns]\n",
      " 4   Location                79906 non-null  object        \n",
      " 5   Country                 79906 non-null  object        \n",
      " 6   Latitude                79906 non-null  object        \n",
      " 7   Longitude               79906 non-null  object        \n",
      " 8   Airport.Code            79906 non-null  object        \n",
      " 9   Airport.Name            79906 non-null  object        \n",
      " 10  Injury.Severity         79906 non-null  object        \n",
      " 11  Aircraft.damage         79906 non-null  object        \n",
      " 12  Aircraft.Category       79906 non-null  object        \n",
      " 13  Registration.Number     79906 non-null  object        \n",
      " 14  Make                    79906 non-null  object        \n",
      " 15  Model                   79906 non-null  object        \n",
      " 16  Amateur.Built           79906 non-null  object        \n",
      " 17  Number.of.Engines       79906 non-null  float64       \n",
      " 18  Engine.Type             79906 non-null  object        \n",
      " 19  Purpose.of.flight       79906 non-null  object        \n",
      " 20  Total.Fatal.Injuries    79906 non-null  float64       \n",
      " 21  Total.Serious.Injuries  79906 non-null  float64       \n",
      " 22  Total.Minor.Injuries    79906 non-null  float64       \n",
      " 23  Total.Uninjured         79906 non-null  float64       \n",
      " 24  Weather.Condition       79906 non-null  object        \n",
      " 25  Broad.phase.of.flight   79906 non-null  object        \n",
      "dtypes: datetime64[ns](1), float64(5), object(20)\n",
      "memory usage: 16.5+ MB\n",
      "None\n"
     ]
    }
   ],
   "source": [
    "# Data Cleaning and Preparation\n",
    "\n",
    "# Handle missing values for critical columns\n",
    "# Filling missing values with appropriate defaults or placeholders\n",
    "\n",
    "# 1. Replace missing values in categorical fields with \"Unknown\"\n",
    "df['Location'].fillna('Unknown', inplace=True)\n",
    "df['Country'].fillna('Unknown', inplace=True)\n",
    "df['Aircraft.Category'].fillna('Unknown', inplace=True)\n",
    "df['Airport.Code'].fillna('Unknown', inplace=True)\n",
    "df['Airport.Name'].fillna('Unknown', inplace=True)\n",
    "df['Weather.Condition'].fillna('Unknown', inplace=True)\n",
    "df['Broad.phase.of.flight'].fillna('Unknown', inplace=True)\n",
    "df['Latitude'].fillna('Unknown', inplace=True)\n",
    "df['Longitude'].fillna('Unknown', inplace=True)\n",
    "df['Injury.Severity'].fillna('Unknown', inplace=True)\n",
    "df['Aircraft.damage'].fillna('Unknown', inplace=True)\n",
    "df['Purpose.of.flight'].fillna('Unknown', inplace=True)\n",
    "\n",
    "# 2. For numeric fields, fill with 0 or other suitable value\n",
    "df['Number.of.Engines'].fillna(0, inplace=True)\n",
    "df['Total.Fatal.Injuries'].fillna(0, inplace=True)\n",
    "df['Total.Serious.Injuries'].fillna(0, inplace=True)\n",
    "df['Total.Minor.Injuries'].fillna(0, inplace=True)\n",
    "df['Total.Uninjured'].fillna(0, inplace=True)\n",
    "\n",
    "# 3. Handle fields where a mode-based imputation is appropriate\n",
    "df['Engine.Type'].fillna(df['Engine.Type'].mode()[0], inplace=True)\n",
    "df['Amateur.Built'].fillna('No', inplace=True)\n",
    "\n",
    "# 4. Convert dates and standardize fields (as before)\n",
    "df['Event.Date'] = pd.to_datetime(df['Event.Date'], errors='coerce')\n",
    "\n",
    "# 5. Replace missing values for `Registration.Number`, `Make`, and `Model`\n",
    "df['Registration.Number'].fillna('Unknown', inplace=True)\n",
    "df['Make'].fillna('Unknown', inplace=True)\n",
    "df['Model'].fillna('Unknown', inplace=True)\n",
    "\n",
    "# 6. Drop columns with excessive missing values that are not critical for analysis\n",
    "df.drop(columns=['FAR.Description', 'Schedule', 'Air.carrier', 'Report.Status', 'Publication.Date'], inplace=True, errors='ignore')\n",
    "\n",
    "#7. Drop other countries as 70% of the data is US based\n",
    "df = df[(df['Investigation.Type'] == 'Accident') & (df['Country'] == 'United States')]\n",
    "\n",
    "#8 output cleaned data (Save cleaned data to a CSV file)\n",
    "df.to_csv('Cleaned_AviationData.csv', index=False)\n",
    "\n",
    "# Display final dataset summary\n",
    "print(df.info())\n"
   ]
  },
  {
   "cell_type": "code",
   "execution_count": 9,
   "metadata": {},
   "outputs": [
    {
     "data": {
      "text/plain": [
       "Event.Id                  0\n",
       "Investigation.Type        0\n",
       "Accident.Number           0\n",
       "Event.Date                0\n",
       "Location                  0\n",
       "Country                   0\n",
       "Latitude                  0\n",
       "Longitude                 0\n",
       "Airport.Code              0\n",
       "Airport.Name              0\n",
       "Injury.Severity           0\n",
       "Aircraft.damage           0\n",
       "Aircraft.Category         0\n",
       "Registration.Number       0\n",
       "Make                      0\n",
       "Model                     0\n",
       "Amateur.Built             0\n",
       "Number.of.Engines         0\n",
       "Engine.Type               0\n",
       "Purpose.of.flight         0\n",
       "Total.Fatal.Injuries      0\n",
       "Total.Serious.Injuries    0\n",
       "Total.Minor.Injuries      0\n",
       "Total.Uninjured           0\n",
       "Weather.Condition         0\n",
       "Broad.phase.of.flight     0\n",
       "Year                      0\n",
       "dtype: int64"
      ]
     },
     "execution_count": 9,
     "metadata": {},
     "output_type": "execute_result"
    }
   ],
   "source": [
    "df.isnull().sum()"
   ]
  },
  {
   "cell_type": "markdown",
   "metadata": {},
   "source": [
    "4. Data Analysis"
   ]
  },
  {
   "cell_type": "code",
   "execution_count": 5,
   "metadata": {},
   "outputs": [
    {
     "data": {
      "text/plain": [
       "{'Aircraft.damage': Substantial    61666\n",
       " Destroyed      16419\n",
       " Unknown         1174\n",
       " Minor            647\n",
       " Name: Aircraft.damage, dtype: int64,\n",
       " 'Injury.Severity': Non-Fatal      64458\n",
       " Fatal(1)        5852\n",
       " Fatal           3555\n",
       " Fatal(2)        3445\n",
       " Fatal(3)        1017\n",
       " Fatal(4)         709\n",
       " Minor            203\n",
       " Fatal(5)         176\n",
       " Serious          153\n",
       " Fatal(6)         115\n",
       " Unknown           52\n",
       " Fatal(7)          37\n",
       " Fatal(8)          29\n",
       " Fatal(10)         17\n",
       " Unavailable       15\n",
       " Fatal(9)           8\n",
       " Fatal(14)          6\n",
       " Fatal(12)          5\n",
       " Fatal(11)          5\n",
       " Fatal(13)          3\n",
       " Fatal(18)          3\n",
       " Fatal(25)          3\n",
       " Fatal(17)          3\n",
       " Fatal(82)          2\n",
       " Fatal(34)          2\n",
       " Fatal(20)          2\n",
       " Fatal(23)          2\n",
       " Fatal(135)         1\n",
       " Fatal(49)          1\n",
       " Fatal(27)          1\n",
       " Fatal(70)          1\n",
       " Fatal(21)          1\n",
       " Fatal(92)          1\n",
       " Fatal(19)          1\n",
       " Fatal(68)          1\n",
       " Fatal(88)          1\n",
       " Fatal(37)          1\n",
       " Fatal(230)         1\n",
       " Fatal(110)         1\n",
       " Fatal(64)          1\n",
       " Fatal(153)         1\n",
       " Fatal(29)          1\n",
       " Fatal(65)          1\n",
       " Fatal(228)         1\n",
       " Fatal(16)          1\n",
       " Fatal(28)          1\n",
       " Fatal(78)          1\n",
       " Fatal(111)         1\n",
       " Fatal(15)          1\n",
       " Fatal(43)          1\n",
       " Fatal(44)          1\n",
       " Fatal(31)          1\n",
       " Fatal(265)         1\n",
       " Fatal(156)         1\n",
       " Fatal(73)          1\n",
       " Fatal(132)         1\n",
       " Name: Injury.Severity, dtype: int64,\n",
       " 'Fatal.Injuries': count    79906.000000\n",
       " mean         0.377594\n",
       " std          2.307171\n",
       " min          0.000000\n",
       " 25%          0.000000\n",
       " 50%          0.000000\n",
       " 75%          0.000000\n",
       " max        265.000000\n",
       " Name: Total.Fatal.Injuries, dtype: float64,\n",
       " 'Serious.Injuries': count    79906.000000\n",
       " mean         0.225903\n",
       " std          1.029465\n",
       " min          0.000000\n",
       " 25%          0.000000\n",
       " 50%          0.000000\n",
       " 75%          0.000000\n",
       " max        137.000000\n",
       " Name: Total.Serious.Injuries, dtype: float64,\n",
       " 'Minor.Injuries': count    79906.000000\n",
       " mean         0.290191\n",
       " std          1.199196\n",
       " min          0.000000\n",
       " 25%          0.000000\n",
       " 50%          0.000000\n",
       " 75%          0.000000\n",
       " max        125.000000\n",
       " Name: Total.Minor.Injuries, dtype: float64,\n",
       " 'Uninjured': count    79906.000000\n",
       " mean         2.567529\n",
       " std         16.318746\n",
       " min          0.000000\n",
       " 25%          0.000000\n",
       " 50%          1.000000\n",
       " 75%          2.000000\n",
       " max        699.000000\n",
       " Name: Total.Uninjured, dtype: float64}"
      ]
     },
     "execution_count": 5,
     "metadata": {},
     "output_type": "execute_result"
    }
   ],
   "source": [
    "# Summarize key risk-related variables\n",
    "\n",
    "risk_summary = {\n",
    "    \"Aircraft.damage\": df[\"Aircraft.damage\"].value_counts(dropna=False),\n",
    "    \"Injury.Severity\": df[\"Injury.Severity\"].value_counts(dropna=False),\n",
    "    \"Fatal.Injuries\": df[\"Total.Fatal.Injuries\"].describe(),\n",
    "    \"Serious.Injuries\": df[\"Total.Serious.Injuries\"].describe(),\n",
    "    \"Minor.Injuries\": df[\"Total.Minor.Injuries\"].describe(),\n",
    "    \"Uninjured\": df[\"Total.Uninjured\"].describe(),\n",
    "}\n",
    "\n",
    "risk_summary\n"
   ]
  },
  {
   "cell_type": "code",
   "execution_count": 6,
   "metadata": {},
   "outputs": [
    {
     "data": {
      "text/html": [
       "<div>\n",
       "<style scoped>\n",
       "    .dataframe tbody tr th:only-of-type {\n",
       "        vertical-align: middle;\n",
       "    }\n",
       "\n",
       "    .dataframe tbody tr th {\n",
       "        vertical-align: top;\n",
       "    }\n",
       "\n",
       "    .dataframe thead th {\n",
       "        text-align: right;\n",
       "    }\n",
       "</style>\n",
       "<table border=\"1\" class=\"dataframe\">\n",
       "  <thead>\n",
       "    <tr style=\"text-align: right;\">\n",
       "      <th></th>\n",
       "      <th>Make</th>\n",
       "      <th>Model</th>\n",
       "      <th>Total_Incidents</th>\n",
       "      <th>Avg_Fatal_Injuries</th>\n",
       "      <th>Avg_Serious_Injuries</th>\n",
       "      <th>Avg_Engines</th>\n",
       "      <th>Avg_Damage_Severity</th>\n",
       "    </tr>\n",
       "  </thead>\n",
       "  <tbody>\n",
       "    <tr>\n",
       "      <th>1110</th>\n",
       "      <td>Airbus</td>\n",
       "      <td>A320</td>\n",
       "      <td>6</td>\n",
       "      <td>0.0</td>\n",
       "      <td>0.0</td>\n",
       "      <td>2.000000</td>\n",
       "      <td>0.166667</td>\n",
       "    </tr>\n",
       "    <tr>\n",
       "      <th>14946</th>\n",
       "      <td>Rotorway</td>\n",
       "      <td>EXECUTIVE</td>\n",
       "      <td>5</td>\n",
       "      <td>0.0</td>\n",
       "      <td>0.0</td>\n",
       "      <td>1.000000</td>\n",
       "      <td>0.400000</td>\n",
       "    </tr>\n",
       "    <tr>\n",
       "      <th>2107</th>\n",
       "      <td>BOMBARDIER INC</td>\n",
       "      <td>CL-600-2C10</td>\n",
       "      <td>4</td>\n",
       "      <td>0.0</td>\n",
       "      <td>0.0</td>\n",
       "      <td>2.000000</td>\n",
       "      <td>0.500000</td>\n",
       "    </tr>\n",
       "    <tr>\n",
       "      <th>2016</th>\n",
       "      <td>BOEING</td>\n",
       "      <td>737-823</td>\n",
       "      <td>4</td>\n",
       "      <td>0.0</td>\n",
       "      <td>0.0</td>\n",
       "      <td>1.500000</td>\n",
       "      <td>0.500000</td>\n",
       "    </tr>\n",
       "    <tr>\n",
       "      <th>8481</th>\n",
       "      <td>Grumman</td>\n",
       "      <td>AA1C</td>\n",
       "      <td>4</td>\n",
       "      <td>0.0</td>\n",
       "      <td>0.0</td>\n",
       "      <td>1.000000</td>\n",
       "      <td>0.500000</td>\n",
       "    </tr>\n",
       "    <tr>\n",
       "      <th>1080</th>\n",
       "      <td>Air Tractor</td>\n",
       "      <td>AT401</td>\n",
       "      <td>4</td>\n",
       "      <td>0.0</td>\n",
       "      <td>0.0</td>\n",
       "      <td>1.000000</td>\n",
       "      <td>0.500000</td>\n",
       "    </tr>\n",
       "    <tr>\n",
       "      <th>16292</th>\n",
       "      <td>Socata</td>\n",
       "      <td>TB-10</td>\n",
       "      <td>4</td>\n",
       "      <td>0.0</td>\n",
       "      <td>0.0</td>\n",
       "      <td>1.000000</td>\n",
       "      <td>0.500000</td>\n",
       "    </tr>\n",
       "    <tr>\n",
       "      <th>2992</th>\n",
       "      <td>Bell</td>\n",
       "      <td>222B</td>\n",
       "      <td>3</td>\n",
       "      <td>0.0</td>\n",
       "      <td>0.0</td>\n",
       "      <td>2.000000</td>\n",
       "      <td>0.333333</td>\n",
       "    </tr>\n",
       "    <tr>\n",
       "      <th>152</th>\n",
       "      <td>AEROSTAR INTERNATIONAL INC</td>\n",
       "      <td>RX 8</td>\n",
       "      <td>3</td>\n",
       "      <td>0.0</td>\n",
       "      <td>0.0</td>\n",
       "      <td>0.000000</td>\n",
       "      <td>0.333333</td>\n",
       "    </tr>\n",
       "    <tr>\n",
       "      <th>14039</th>\n",
       "      <td>Quad City</td>\n",
       "      <td>CHALLENGER</td>\n",
       "      <td>3</td>\n",
       "      <td>0.0</td>\n",
       "      <td>0.0</td>\n",
       "      <td>0.666667</td>\n",
       "      <td>0.333333</td>\n",
       "    </tr>\n",
       "  </tbody>\n",
       "</table>\n",
       "</div>"
      ],
      "text/plain": [
       "                             Make        Model  Total_Incidents  \\\n",
       "1110                       Airbus         A320                6   \n",
       "14946                    Rotorway    EXECUTIVE                5   \n",
       "2107               BOMBARDIER INC  CL-600-2C10                4   \n",
       "2016                       BOEING      737-823                4   \n",
       "8481                      Grumman         AA1C                4   \n",
       "1080                  Air Tractor        AT401                4   \n",
       "16292                      Socata        TB-10                4   \n",
       "2992                         Bell         222B                3   \n",
       "152    AEROSTAR INTERNATIONAL INC         RX 8                3   \n",
       "14039                   Quad City   CHALLENGER                3   \n",
       "\n",
       "       Avg_Fatal_Injuries  Avg_Serious_Injuries  Avg_Engines  \\\n",
       "1110                  0.0                   0.0     2.000000   \n",
       "14946                 0.0                   0.0     1.000000   \n",
       "2107                  0.0                   0.0     2.000000   \n",
       "2016                  0.0                   0.0     1.500000   \n",
       "8481                  0.0                   0.0     1.000000   \n",
       "1080                  0.0                   0.0     1.000000   \n",
       "16292                 0.0                   0.0     1.000000   \n",
       "2992                  0.0                   0.0     2.000000   \n",
       "152                   0.0                   0.0     0.000000   \n",
       "14039                 0.0                   0.0     0.666667   \n",
       "\n",
       "       Avg_Damage_Severity  \n",
       "1110              0.166667  \n",
       "14946             0.400000  \n",
       "2107              0.500000  \n",
       "2016              0.500000  \n",
       "8481              0.500000  \n",
       "1080              0.500000  \n",
       "16292             0.500000  \n",
       "2992              0.333333  \n",
       "152               0.333333  \n",
       "14039             0.333333  "
      ]
     },
     "execution_count": 6,
     "metadata": {},
     "output_type": "execute_result"
    }
   ],
   "source": [
    "# Grouping data by Make and Model to identify low-risk aircraft\n",
    "low_risk_analysis = df.groupby([\"Make\", \"Model\"]).agg(\n",
    "    Total_Incidents=(\"Event.Date\", \"count\"),\n",
    "    Avg_Fatal_Injuries=(\"Total.Fatal.Injuries\", \"mean\"),\n",
    "    Avg_Serious_Injuries=(\"Total.Serious.Injuries\", \"mean\"),\n",
    "    Avg_Engines=(\"Number.of.Engines\", \"mean\"),\n",
    "    Avg_Damage_Severity=(\"Aircraft.damage\", lambda x: (x == \"Substantial\").mean()),\n",
    ").reset_index()\n",
    "\n",
    "# Filtering for low-risk aircraft (low fatalities, low serious injuries, and minimal substantial damage rate)\n",
    "low_risk_aircraft = low_risk_analysis[\n",
    "    (low_risk_analysis[\"Avg_Fatal_Injuries\"] <= 0.1) &\n",
    "    (low_risk_analysis[\"Avg_Serious_Injuries\"] <= 0.1) &\n",
    "    (low_risk_analysis[\"Avg_Damage_Severity\"] <= 0.5)\n",
    "].sort_values(\"Total_Incidents\", ascending=False)\n",
    "\n",
    "low_risk_aircraft.head(10)  # Display the top 10 low-risk aircraft\n"
   ]
  },
  {
   "cell_type": "markdown",
   "metadata": {},
   "source": [
    "5. Recommendations:\n",
    "Boeing 777, Airbus A300, and Douglas DC-9-51 show particularly strong safety records with no fatalities, low damage rates, and moderate incident numbers.\n",
    "Consider starting with these models for their balance of safety and operational history.\n",
    "Investigate specific operational conditions (e.g., weather, phase of flight) for these models to ensure their suitability."
   ]
  },
  {
   "cell_type": "markdown",
   "metadata": {},
   "source": [
    "6. Visualizations"
   ]
  },
  {
   "cell_type": "code",
   "execution_count": 9,
   "metadata": {},
   "outputs": [
    {
     "data": {
      "image/png": "[encoded data removed]",
      "text/plain": [
       "<Figure size 720x432 with 1 Axes>"
      ]
     },
     "metadata": {
      "needs_background": "light"
     },
     "output_type": "display_data"
    }
   ],
   "source": [
    "# 1. Barchat for Top 10 Aircraft Make by Number of Accidents\n",
    "top_makes = df['Make'].value_counts().head(10)\n",
    "\n",
    "# Plotting the bar chart\n",
    "plt.figure(figsize=(10, 6))\n",
    "top_makes.plot(kind='bar', color='skyblue')\n",
    "plt.title('Top 10 Aircraft Make by Number of Accidents', fontsize=14)\n",
    "plt.xlabel('Aircraft Make', fontsize=12)\n",
    "plt.ylabel('Number of Accidents', fontsize=12)\n",
    "plt.xticks(rotation=45, ha='right', fontsize=10)\n",
    "plt.tight_layout()\n",
    "\n",
    "# Display the plot\n",
    "plt.show()\n"
   ]
  },
  {
   "cell_type": "markdown",
   "metadata": {},
   "source": [
    "The chart is a bar chart showing the top 10 aircraft manufacturers (or \"makes\") ranked by the number of accidents involving their aircraft.\n",
    "\n",
    "Dominant Aircraft Makes: The chart highlights which manufacturers have the highest accident counts. These are likely to include widely used manufacturers, as they have more aircraft in operation.A higher number of accidents does not necessarily indicate safety issues with a specific manufacturer; it could be reflective of the number of aircraft they have in service. For instance, manufacturers with large fleets tend to have more recorded incidents."
   ]
  },
  {
   "cell_type": "code",
   "execution_count": 7,
   "metadata": {},
   "outputs": [
    {
     "data": {
      "image/png": "[encoded data removed]",
      "text/plain": [
       "<Figure size 720x432 with 1 Axes>"
      ]
     },
     "metadata": {
      "needs_background": "light"
     },
     "output_type": "display_data"
    }
   ],
   "source": [
    "\n",
    "#Accidents By Weather Conditions - Barchat\n",
    "weather_accidents = df['Weather.Condition'].value_counts()\n",
    "\n",
    "# Plotting the bar chart\n",
    "plt.figure(figsize=(10, 6))\n",
    "weather_accidents.plot(kind='bar', color=['skyblue', 'orange', 'green', 'red'])\n",
    "plt.title('Accidents by Weather Conditions', fontsize=16)\n",
    "plt.xlabel('Weather Condition', fontsize=14)\n",
    "plt.ylabel('Number of Accidents', fontsize=14)\n",
    "plt.xticks(rotation=45, fontsize=12)\n",
    "plt.yticks(fontsize=12)\n",
    "plt.grid(axis='y', linestyle='--', alpha=0.7)\n",
    "plt.tight_layout()\n",
    "\n",
    "# Show the plot\n",
    "plt.show()\n",
    "\n"
   ]
  },
  {
   "cell_type": "markdown",
   "metadata": {},
   "source": [
    "The bar chart illustrates the number of accidents categorized by different weather conditions, providing an overview of how various weather types may correlate with accident frequency.\n",
    "\n",
    "Dominance of Clear Weather: If the \"Clear\" condition has the tallest bar, this suggests that most accidents occur during clear weather. This is likely because the majority of flights operate in such conditions rather than weather being a direct cause of accidents.Conditions like \"Rain,\" \"Fog,\" or \"Snow\" may have fewer accidents in absolute numbers, but their relative contribution could be higher when adjusted for the frequency of operations in these weather conditions.\n"
   ]
  },
  {
   "cell_type": "code",
   "execution_count": 10,
   "metadata": {},
   "outputs": [
    {
     "data": {
      "image/png": "[encoded data removed]",
      "text/plain": [
       "<Figure size 720x432 with 1 Axes>"
      ]
     },
     "metadata": {
      "needs_background": "light"
     },
     "output_type": "display_data"
    }
   ],
   "source": [
    "# Fatality Rate By Engines\n",
    "# 1. Ensure relevant columns are numeric\n",
    "df['Total.Fatal.Injuries'] = pd.to_numeric(df['Total.Fatal.Injuries'], errors='coerce')\n",
    "df['Number.of.Engines'] = pd.to_numeric(df['Number.of.Engines'], errors='coerce')\n",
    "\n",
    "# 2. Group data by number of engines and calculate totals\n",
    "engines_grouped = df.groupby('Number.of.Engines').agg(\n",
    "    Total_Fatalities=('Total.Fatal.Injuries', 'sum'),\n",
    "    Total_Incidents=('Event.Id', 'count')  # Assuming 'Event.Id' is unique per incident\n",
    ").reset_index()\n",
    "\n",
    "# 3. Calculate fatality rate\n",
    "engines_grouped['Fatality_Rate'] = engines_grouped['Total_Fatalities'] / engines_grouped['Total_Incidents']\n",
    "\n",
    "# 4. Plot the fatality rate\n",
    "plt.figure(figsize=(10, 6))\n",
    "plt.bar(engines_grouped['Number.of.Engines'], engines_grouped['Fatality_Rate'], color='crimson')\n",
    "plt.title('Fatality Rate by Number of Engines', fontsize=16)\n",
    "plt.xlabel('Number of Engines', fontsize=14)\n",
    "plt.ylabel('Fatality Rate', fontsize=14)\n",
    "plt.xticks(fontsize=12)\n",
    "plt.yticks(fontsize=12)\n",
    "plt.grid(axis='y', linestyle='--', alpha=0.7)\n",
    "plt.tight_layout()\n",
    "\n",
    "# Show the plot\n",
    "plt.show()\n"
   ]
  },
  {
   "cell_type": "markdown",
   "metadata": {},
   "source": [
    "The bar chart visualizes the fatality rate (the proportion of fatalities relative to total incidents) across different numbers of aircraft engines.\n",
    "\n",
    "Higher Fatality Rates for Certain Engine Counts:\n",
    "\n",
    "Aircraft with fewer engines (e.g., single-engine planes) might have higher fatality rates because they lack redundancy in case of engine failure.\n",
    "Multi-engine aircraft may exhibit lower fatality rates due to increased safety measures and redundancy.There may be variations in fatality rates for aircraft with more than two engines. For instance, very large aircraft (e.g., those with 3 or 4 engines) might experience lower fatality rates due to their advanced safety features and better-maintained fleets."
   ]
  },
  {
   "cell_type": "code",
   "execution_count": 8,
   "metadata": {},
   "outputs": [
    {
     "data": {
      "image/png": "[encoded data removed]",
      "text/plain": [
       "<Figure size 864x576 with 1 Axes>"
      ]
     },
     "metadata": {
      "needs_background": "light"
     },
     "output_type": "display_data"
    }
   ],
   "source": [
    "# Yearly accident trends  - Line plot\n",
    "#Ensure 'Event.Date' is in datetime format\n",
    "df['Event.Date'] = pd.to_datetime(df['Event.Date'], errors='coerce')\n",
    "\n",
    "# Extract the year from the Event.Date column\n",
    "df['Year'] = df['Event.Date'].dt.year\n",
    "\n",
    "# Group data by year and count the number of accidents\n",
    "yearly_accidents = df.groupby('Year').size()\n",
    "\n",
    "# Plot the yearly accident trends with a range of 10 years\n",
    "plt.figure(figsize=(12, 8))\n",
    "plt.plot(\n",
    "    yearly_accidents.index,\n",
    "    yearly_accidents.values,\n",
    "    marker='o',\n",
    "    color='b',\n",
    "    linestyle='-',\n",
    "    linewidth=2,\n",
    "    markersize=5\n",
    ")\n",
    "plt.title('Yearly Accident Trends (10-Year Ranges)', fontsize=16)\n",
    "plt.xlabel('Year', fontsize=14)\n",
    "plt.ylabel('Number of Accidents', fontsize=14)\n",
    "plt.xticks(ticks=range(int(yearly_accidents.index.min()), int(yearly_accidents.index.max()) + 1, 10), fontsize=12)\n",
    "plt.yticks(fontsize=12)\n",
    "plt.grid(axis='y', linestyle='--', alpha=0.7)\n",
    "plt.tight_layout()\n",
    "plt.show()\n",
    "\n"
   ]
  },
  {
   "cell_type": "markdown",
   "metadata": {},
   "source": [
    "The chart displays the yearly trends of accidents over a specific time period. Each data point represents the number of accidents (or events) recorded in a particular year. The x-axis represents the years, while the y-axis indicates the total number of accidents in each respective year.\n",
    "\n",
    "Fluctuations in Accident Numbers: The chart shows some periods of increased or decreased accidents. Peaks or dips in the number of accidents are indicating important changes or events affecting accident rates. However you might observe an upward or downward trend. A consistent upward trend might suggest worsening conditions (e.g., increased population or vehicle usage), while a downward trend could indicate successful safety initiatives or other factors.\n"
   ]
  },
  {
   "cell_type": "code",
   "execution_count": 9,
   "metadata": {},
   "outputs": [
    {
     "data": {
      "image/png": "[encoded data removed]",
      "text/plain": [
       "<Figure size 720x432 with 1 Axes>"
      ]
     },
     "metadata": {
      "needs_background": "light"
     },
     "output_type": "display_data"
    }
   ],
   "source": [
    "#Accidents By Flight Phase\n",
    "# Count the number of accidents by flight phase\n",
    "flight_phase_counts = df['Broad.phase.of.flight'].value_counts()\n",
    "\n",
    "# Plot a bar chart of accidents by flight phase\n",
    "plt.figure(figsize=(10, 6))\n",
    "flight_phase_counts.plot(kind='bar', color='skyblue', edgecolor='black')\n",
    "plt.title('Number of Accidents by Flight Phase', fontsize=16)\n",
    "plt.xlabel('Flight Phase', fontsize=14)\n",
    "plt.ylabel('Number of Accidents', fontsize=14)\n",
    "plt.xticks(rotation=45, ha='right', fontsize=12)\n",
    "plt.grid(axis='y', linestyle='--', alpha=0.7)\n",
    "plt.tight_layout()\n",
    "plt.show()"
   ]
  },
  {
   "cell_type": "markdown",
   "metadata": {},
   "source": [
    "The bar chart visualizes the distribution of accidents across different phases of flight, such as takeoff, landing, cruise, taxiing, or approach.\n",
    "\n",
    "High-Risk Phases:Takeoff and landing phases often have the highest number of accidents, as suggested by taller bars for these phases. These are critical phases of flight with heightened risk due to operational complexity and proximity to the ground.The cruise phase, despite being the longest part of most flights, usually has fewer accidents compared to takeoff and landing. This is likely due to more stable operating conditions at cruising altitude."
   ]
  }
 ],
 "metadata": {
  "kernelspec": {
   "display_name": "Python 3",
   "language": "python",
   "name": "python3"
  },
  "language_info": {
   "codemirror_mode": {
    "name": "ipython",
    "version": 3
   },
   "file_extension": ".py",
   "mimetype": "text/x-python",
   "name": "python",
   "nbconvert_exporter": "python",
   "pygments_lexer": "ipython3",
   "version": "3.8.5"
  }
 },
 "nbformat": 4,
 "nbformat_minor": 4
}
